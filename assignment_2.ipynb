{
  "nbformat": 4,
  "nbformat_minor": 0,
  "metadata": {
    "colab": {
      "provenance": []
    },
    "kernelspec": {
      "name": "python3",
      "display_name": "Python 3"
    },
    "language_info": {
      "name": "python"
    }
  },
  "cells": [
    {
      "cell_type": "markdown",
      "source": [
        "1 What are data structures, and why are they important?"
      ],
      "metadata": {
        "id": "-wQ60SP2lDay"
      }
    },
    {
      "cell_type": "markdown",
      "source": [
        "Data structures are ways to organize and store data. They're important because they help programs run faster, use memory efficiently, and solve problems more easily.\n",
        "Like choosing the right tool for a job—hammer for nails, wrench for bolts—using the right data structure makes everything smoother. Want a lightning-fast example next? ⚡\n"
      ],
      "metadata": {
        "id": "QBM-wMxmlG00"
      }
    },
    {
      "cell_type": "markdown",
      "source": [
        "2 Explain the difference between mutable and immutable data types with examples?"
      ],
      "metadata": {
        "id": "jdBPIOColfLb"
      }
    },
    {
      "cell_type": "markdown",
      "source": [
        "Mutable Data Types\n",
        "These can be modified—you can change, add, or remove elements without creating a new object.\n",
        " Immutable Data Types\n",
        "These cannot be changed once created—any “change” creates a new object.\n"
      ],
      "metadata": {
        "id": "GjllP9s6ll17"
      }
    },
    {
      "cell_type": "markdown",
      "source": [
        " 1 Mutability\n",
        "- List:  Mutable — You can change, add, or remove items.\n",
        "- Tuple:  Immutable — Once created, it cannot be changed.\n"
      ],
      "metadata": {
        "id": "GPu2oJC0l4-A"
      }
    },
    {
      "cell_type": "markdown",
      "source": [
        "Performance\n",
        "- List: Slightly slower due to flexibility.\n",
        "- Tuple: Faster in operations — better for read-only data.\n"
      ],
      "metadata": {
        "id": "xAUwJjJPmfRD"
      }
    },
    {
      "cell_type": "markdown",
      "source": [
        "Syntax\n",
        "- List: Uses square brackets → my_list = [1, 2, 3]\n",
        "- Tuple: Uses parentheses → my_tuple = (1, 2, 3)\n",
        "\n",
        "\n"
      ],
      "metadata": {
        "id": "ueVmT0FMmoI3"
      }
    },
    {
      "cell_type": "markdown",
      "source": [
        "Safety\n",
        "- List: Risk of accidental modification.\n",
        "- Tuple: Safer for fixed data — ideal when values shouldn't change.\n",
        "\n",
        "\n"
      ],
      "metadata": {
        "id": "yFQ9C7uzm1rZ"
      }
    },
    {
      "cell_type": "markdown",
      "source": [
        "4 Describe how dictionaries store data"
      ],
      "metadata": {
        "id": "7mzQlNhJnf6u"
      }
    },
    {
      "cell_type": "markdown",
      "source": [
        "Dictionaries are powerful data structures used in many programming languages like Python, Java, and C# to store data in a way that's both efficient and intuitive. Here's how they work under the hood:"
      ],
      "metadata": {
        "id": "FoTI5befnjnT"
      }
    },
    {
      "cell_type": "markdown",
      "source": [
        "- Example: {\"name\": \"Arjun\", \"age\": 25}\n",
        "\n"
      ],
      "metadata": {
        "id": "kw5IDblyntmk"
      }
    },
    {
      "cell_type": "markdown",
      "source": [
        "5  Why might you use a set instead of a list in Python?"
      ],
      "metadata": {
        "id": "Fqw1wJs7nvOx"
      }
    },
    {
      "cell_type": "markdown",
      "source": [
        "A set in Python has some unique characteristics that make it the better choice over a list in certain situations.\n"
      ],
      "metadata": {
        "id": "1qNq1RzNn8oy"
      }
    },
    {
      "cell_type": "markdown",
      "source": [
        "6 What is a string in Python, and how is it different from a list?"
      ],
      "metadata": {
        "id": "nuuRnNC4oINx"
      }
    },
    {
      "cell_type": "markdown",
      "source": [
        "A string is a sequence of Unicode characters used to represent text.\n",
        "- You define it with quotes: 'hello' or \"hello\"\n",
        "- It's immutable: once created, you can’t change the characters directly.\n",
        "- Supports operations like concatenation, slicing, and formatting:\n"
      ],
      "metadata": {
        "id": "PLpAkskSoPnv"
      }
    },
    {
      "cell_type": "markdown",
      "source": [
        "A list is a sequence of objects—and those can be anything: numbers, strings, even other lists.\n",
        "- Defined with square brackets: [1, 2, 3] or ['apple', 'banana']\n",
        "- It’s mutable: you can change, add, or remove elements after creation.\n",
        "- Great for collections that might change or contain mixed types:\n"
      ],
      "metadata": {
        "id": "TDeq4iP7oaPl"
      }
    },
    {
      "cell_type": "markdown",
      "source": [
        "7 How do tuples ensure data integrity in Python?"
      ],
      "metadata": {
        "id": "hvLTOv0moePD"
      }
    },
    {
      "cell_type": "markdown",
      "source": [
        "- Tuple: An immutable, ordered collection of items.\n",
        "-  Data Integrity: Because tuples can't be changed after creation, they prevent accidental modifications—perfect for storing fixed data.\n",
        "-  Uses: Ideal for constants, safe dictionary keys, and keeping data secure across functions.\n"
      ],
      "metadata": {
        "id": "IODy6QTioqwU"
      }
    },
    {
      "cell_type": "markdown",
      "source": [
        " 8 What is a hash table, and how does it relate to dictionaries in Python?"
      ],
      "metadata": {
        "id": "HJrnh1uOo7pz"
      }
    },
    {
      "cell_type": "markdown",
      "source": [
        "- It uses a hash function to convert a key (like \"name\") into a numerical index.\n",
        "- That index determines where the data is stored in memory.\n",
        "- It allows fast access, insertion, and deletion of values by key.\n",
        "- Python’s dict is built on hash table mechanics.\n"
      ],
      "metadata": {
        "id": "dOI-Y8JhpU8w"
      }
    },
    {
      "cell_type": "markdown",
      "source": [
        "9 Can lists contain different data types in Python?"
      ],
      "metadata": {
        "id": "AfVZvpWzpe3V"
      }
    },
    {
      "cell_type": "markdown",
      "source": [
        "In Python, lists are versatile containers that can hold elements of mixed data types in a single sequence.\n",
        "This list includes:\n",
        "- A string (\"Jagadhri\")\n",
        "- An integer (2025)\n",
        "- A float (3.14)\n",
        "- A boolean (True)\n",
        "- Another list ([1, 2, 3])\n"
      ],
      "metadata": {
        "id": "bwlJazURp7ye"
      }
    },
    {
      "cell_type": "markdown",
      "source": [
        " 10 Explain why strings are immutable in Python?"
      ],
      "metadata": {
        "id": "R8hED-MxqDU-"
      }
    },
    {
      "cell_type": "markdown",
      "source": [
        "1. Data Safety\n",
        "- Immutability prevents accidental changes, which keeps the data consistent across your program.\n"
      ],
      "metadata": {
        "id": "gwgQBt-nu8tP"
      }
    },
    {
      "cell_type": "markdown",
      "source": [
        "2. Performance Boost\n",
        "- Python uses string interning (stores common strings only once).\n",
        "This saves memory and makes operations like comparisons faster.\n"
      ],
      "metadata": {
        "id": "NhREQ9-Cu-I_"
      }
    },
    {
      "cell_type": "markdown",
      "source": [
        "3. Hashable for Dictionaries and Sets\n",
        "- You can use strings as dictionary keys or set elements because their hash value won’t change.\n"
      ],
      "metadata": {
        "id": "DejhUn7NvSwR"
      }
    },
    {
      "cell_type": "markdown",
      "source": [
        "11 What advantages do dictionaries offer over lists for certain tasks?"
      ],
      "metadata": {
        "id": "1iWo8fHOvT_j"
      }
    },
    {
      "cell_type": "markdown",
      "source": [
        "-  They prevent accidental changes to text.\n",
        "-  They enable optimizations like string interning.\n",
        "-  They’re hashable—great for use as dictionary keys.\n",
        "-  All string operations return new strings, not altered ones.\n",
        "It’s all about safety, performance, and clean code design! Want to see how that compares to mutable types like lists or bytearrays?\n"
      ],
      "metadata": {
        "id": "tiSBT2W_v8YB"
      }
    },
    {
      "cell_type": "markdown",
      "source": [
        "12 Describe a scenario where using a tuple would be preferable over a list?"
      ],
      "metadata": {
        "id": "vOX8An7iwILM"
      }
    },
    {
      "cell_type": "markdown",
      "source": [
        "- The data should not change.\n",
        "- You need faster performance.\n",
        "- You're storing values as dictionary keys.\n"
      ],
      "metadata": {
        "id": "7L9JDepDwmCi"
      }
    },
    {
      "cell_type": "markdown",
      "source": [
        "13 How do sets handle duplicate values in Python?"
      ],
      "metadata": {
        "id": "mnkPK_AswqlG"
      }
    },
    {
      "cell_type": "markdown",
      "source": [
        "- Duplicates are automatically removed.\n",
        "- Adding the same item again? Python ignores it.\n",
        "- Ideal for cleaning up messy, repeated data.\n"
      ],
      "metadata": {
        "id": "vBYqiKefzYc2"
      }
    },
    {
      "cell_type": "markdown",
      "source": [
        "14 How does the “in” keyword work differently for lists and dictionaries?"
      ],
      "metadata": {
        "id": "qTsKBFNTzZt_"
      }
    },
    {
      "cell_type": "markdown",
      "source": [
        "- In a list → checks if a value exists.\n",
        "- In a dictionary → checks if a key exists (not the value).\n",
        "Lists = slow linear search\n",
        " Dicts = fast hash lookup\n"
      ],
      "metadata": {
        "id": "lq1rOWDmzgyD"
      }
    },
    {
      "cell_type": "markdown",
      "source": [
        "15 Can you modify the elements of a tuple? Explain why or why not?"
      ],
      "metadata": {
        "id": "QX1JlI4Uzqgl"
      }
    },
    {
      "cell_type": "markdown",
      "source": [
        "- Tuples are immutable, meaning their content is fixed once created.\n",
        "- This ensures data integrity and allows them to be used as dictionary keys or in sets.\n"
      ],
      "metadata": {
        "id": "tHB6oS60zxPf"
      }
    },
    {
      "cell_type": "markdown",
      "source": [
        " 16 What is a nested dictionary, and give an example of its use case?"
      ],
      "metadata": {
        "id": "OD9AoI0O0C_S"
      }
    },
    {
      "cell_type": "markdown",
      "source": [
        "Nested Dictionary = Dictionary inside a dictionary\n",
        "- Great for storing structured data (like student info or product details).\n",
        "- Lets you organize info hierarchically.\n"
      ],
      "metadata": {
        "id": "RrtaBwwi0SOZ"
      }
    },
    {
      "cell_type": "markdown",
      "source": [
        "17 Describe the time complexity of accessing elements in a dictionary?"
      ],
      "metadata": {
        "id": "2bfG5jaV0VwR"
      }
    },
    {
      "cell_type": "markdown",
      "source": [
        "Accessing elements in a Python dictionary is O(1) — constant time.\n",
        "- Thanks to hashing, Python can jump straight to the value using the key.\n",
        "- Doesn't matter how big the dictionary is—lookup stays fast.\n"
      ],
      "metadata": {
        "id": "eM4j9P3g0r_Y"
      }
    },
    {
      "cell_type": "markdown",
      "source": [
        "18 In what situations are lists preferred over dictionaries?"
      ],
      "metadata": {
        "id": "_ZyfBacq0uUm"
      }
    },
    {
      "cell_type": "markdown",
      "source": [
        "Use lists over dictionaries when:\n",
        "- Order matters — lists keep item sequence.\n",
        "- You need indexed access — like items[0].\n",
        "- The data doesn’t need labels — just values in a row.\n",
        "- Simpler structure — perfect for looping and storing collections.\n"
      ],
      "metadata": {
        "id": "JjlXdPR8027Z"
      }
    },
    {
      "cell_type": "markdown",
      "source": [
        "19 Why are dictionaries considered unordered, and how does that affect data retrieval?"
      ],
      "metadata": {
        "id": "Gst1f1l409fQ"
      }
    },
    {
      "cell_type": "markdown",
      "source": [
        "Dictionaries = traditionally unordered\n",
        "- Before Python 3.7, key order wasn’t preserved.\n",
        "- Since Python 3.7+, insertion order is maintained.\n",
        "- Retrieval is still by key, not position.\n"
      ],
      "metadata": {
        "id": "mViX3Nve1GPp"
      }
    },
    {
      "cell_type": "markdown",
      "source": [
        " 20 Explain the difference between a list and a dictionary in terms of data retrieval.?"
      ],
      "metadata": {
        "id": "BSSlWZsJ1M9t"
      }
    },
    {
      "cell_type": "markdown",
      "source": [
        "- List → Retrieve by index (position-based)\n",
        "Example: my_list[0]\n",
        "- Dictionary → Retrieve by key (name-based)\n",
        "Example: my_dict['name']\n",
        "\n"
      ],
      "metadata": {
        "id": "2RRfzEVj1fUM"
      }
    },
    {
      "cell_type": "markdown",
      "source": [
        "PRACTICAL QUESTIONS"
      ],
      "metadata": {
        "id": "bGk-ZOMM2mi8"
      }
    },
    {
      "cell_type": "markdown",
      "source": [
        "1 Write a code to create a string with your name and print it?"
      ],
      "metadata": {
        "id": "X1cZ4Qnh2deP"
      }
    },
    {
      "cell_type": "code",
      "source": [
        "name=(\"Peehul jain\")\n",
        "print(name)"
      ],
      "metadata": {
        "colab": {
          "base_uri": "https://localhost:8080/"
        },
        "id": "QBnf86VS1pkg",
        "outputId": "10495118-00df-4544-87b0-9ade797f3265"
      },
      "execution_count": null,
      "outputs": [
        {
          "output_type": "stream",
          "name": "stdout",
          "text": [
            "Peehul jain\n"
          ]
        }
      ]
    },
    {
      "cell_type": "markdown",
      "source": [
        " 2 Write a code to find the length of the string \"Hello World\"?"
      ],
      "metadata": {
        "id": "niDC94RQ2rGb"
      }
    },
    {
      "cell_type": "code",
      "source": [
        "a=(\"Hello world\")\n",
        "len(a)"
      ],
      "metadata": {
        "colab": {
          "base_uri": "https://localhost:8080/"
        },
        "id": "oYdBkwX9151o",
        "outputId": "7db8e20e-5fbd-42a4-c804-f87c4ae89a1f"
      },
      "execution_count": null,
      "outputs": [
        {
          "output_type": "execute_result",
          "data": {
            "text/plain": [
              "11"
            ]
          },
          "metadata": {},
          "execution_count": 2
        }
      ]
    },
    {
      "cell_type": "markdown",
      "source": [
        "3 Write a code to slice the first 3 characters from the string \"Python Programming\"?"
      ],
      "metadata": {
        "id": "vPunNby62wxj"
      }
    },
    {
      "cell_type": "code",
      "source": [
        "a=(\"Python Programming\")\n",
        "a[:3]\n"
      ],
      "metadata": {
        "colab": {
          "base_uri": "https://localhost:8080/",
          "height": 35
        },
        "id": "fc6vKBum2Ij_",
        "outputId": "e18d6d5f-f8c2-484a-de39-007ebf9a7ee4"
      },
      "execution_count": null,
      "outputs": [
        {
          "output_type": "execute_result",
          "data": {
            "text/plain": [
              "'Pyt'"
            ],
            "application/vnd.google.colaboratory.intrinsic+json": {
              "type": "string"
            }
          },
          "metadata": {},
          "execution_count": 3
        }
      ]
    },
    {
      "cell_type": "markdown",
      "source": [
        " 4 Write a code to convert the string \"hello\" to uppercase?"
      ],
      "metadata": {
        "id": "m_gcjce124fe"
      }
    },
    {
      "cell_type": "code",
      "source": [
        "a=(\"Hello\")\n",
        "a.upper()"
      ],
      "metadata": {
        "colab": {
          "base_uri": "https://localhost:8080/",
          "height": 35
        },
        "id": "m4jBsCod2Ux4",
        "outputId": "4b8331be-0602-47fa-e634-87bb0d39e753"
      },
      "execution_count": null,
      "outputs": [
        {
          "output_type": "execute_result",
          "data": {
            "text/plain": [
              "'HELLO'"
            ],
            "application/vnd.google.colaboratory.intrinsic+json": {
              "type": "string"
            }
          },
          "metadata": {},
          "execution_count": 7
        }
      ]
    },
    {
      "cell_type": "markdown",
      "source": [
        " 5 Write a code to replace the word \"apple\" with \"orange\" in the string \"I like apple\"?"
      ],
      "metadata": {
        "id": "kyIAULlc4Wxp"
      }
    },
    {
      "cell_type": "code",
      "source": [
        "fruit=(\"apple\")\n",
        "fruit.replace(\"apple\",\"orange\")"
      ],
      "metadata": {
        "colab": {
          "base_uri": "https://localhost:8080/",
          "height": 35
        },
        "id": "qXijDmoz4hEG",
        "outputId": "61988fa4-aa25-49bb-822a-801f29d8c6f7"
      },
      "execution_count": null,
      "outputs": [
        {
          "output_type": "execute_result",
          "data": {
            "text/plain": [
              "'orange'"
            ],
            "application/vnd.google.colaboratory.intrinsic+json": {
              "type": "string"
            }
          },
          "metadata": {},
          "execution_count": 8
        }
      ]
    },
    {
      "cell_type": "markdown",
      "source": [
        "6 Write a code to create a list with numbers 1 to 5 and print it?"
      ],
      "metadata": {
        "id": "hnE4nIzZ44VU"
      }
    },
    {
      "cell_type": "code",
      "source": [
        "a=[1,2,3,4,5]\n",
        "print(a)"
      ],
      "metadata": {
        "colab": {
          "base_uri": "https://localhost:8080/"
        },
        "id": "aEqRHdOJtmDk",
        "outputId": "99668c6a-4ea3-4b0d-a255-9ea0ffb13ce9"
      },
      "execution_count": null,
      "outputs": [
        {
          "output_type": "stream",
          "name": "stdout",
          "text": [
            "[1, 2, 3, 4, 5]\n"
          ]
        }
      ]
    },
    {
      "cell_type": "markdown",
      "source": [
        "7 Write a code to append the number 10 to the list [1, 2, 3, 4]?"
      ],
      "metadata": {
        "id": "MVj9taGPuB2b"
      }
    },
    {
      "cell_type": "code",
      "source": [
        "a=[1,2,3]\n",
        "a.append(10)\n",
        "print(a)"
      ],
      "metadata": {
        "colab": {
          "base_uri": "https://localhost:8080/"
        },
        "id": "UwD0itVzuFYe",
        "outputId": "6e02cc30-7916-48f4-d544-d4b7f09e468e"
      },
      "execution_count": null,
      "outputs": [
        {
          "output_type": "stream",
          "name": "stdout",
          "text": [
            "[1, 2, 3, 10]\n"
          ]
        }
      ]
    },
    {
      "cell_type": "markdown",
      "source": [
        "8 Write a code to remove the number 3 from the list [1, 2, 3, 4, 5]?"
      ],
      "metadata": {
        "id": "Dabj7N6YuQAW"
      }
    },
    {
      "cell_type": "code",
      "source": [
        "a=[1,2,3,4,5]\n",
        "a.remove(3)\n",
        "print(a)"
      ],
      "metadata": {
        "colab": {
          "base_uri": "https://localhost:8080/"
        },
        "id": "1haOScXVubjc",
        "outputId": "9c3c7cf5-6398-4fba-c898-d3939ed2711a"
      },
      "execution_count": null,
      "outputs": [
        {
          "output_type": "stream",
          "name": "stdout",
          "text": [
            "[1, 2, 4, 5]\n"
          ]
        }
      ]
    },
    {
      "cell_type": "markdown",
      "source": [
        "9 Write a code to access the second element in the list ['a', 'b', 'c', 'd']?"
      ],
      "metadata": {
        "id": "udA_fyeWwR5m"
      }
    },
    {
      "cell_type": "code",
      "source": [
        "a=['a,', 'b', 'c', 'd']\n",
        "a[1]"
      ],
      "metadata": {
        "colab": {
          "base_uri": "https://localhost:8080/",
          "height": 35
        },
        "id": "uqlQIO_awadc",
        "outputId": "37f13be8-1b2b-4f91-f54b-97b2e7f8cd85"
      },
      "execution_count": null,
      "outputs": [
        {
          "output_type": "execute_result",
          "data": {
            "text/plain": [
              "'b'"
            ],
            "application/vnd.google.colaboratory.intrinsic+json": {
              "type": "string"
            }
          },
          "metadata": {},
          "execution_count": 7
        }
      ]
    },
    {
      "cell_type": "markdown",
      "source": [
        " 10 Write a code to reverse the list [10, 20, 30, 40, 50]?"
      ],
      "metadata": {
        "id": "tlY8rLT1w469"
      }
    },
    {
      "cell_type": "code",
      "source": [
        "a=[10,20,30,40,50]\n",
        "a[::-1]"
      ],
      "metadata": {
        "colab": {
          "base_uri": "https://localhost:8080/"
        },
        "id": "hfCWv4MaxBUj",
        "outputId": "d1cde493-2273-4a18-b53c-ca15e5eedaac"
      },
      "execution_count": null,
      "outputs": [
        {
          "output_type": "execute_result",
          "data": {
            "text/plain": [
              "[50, 40, 30, 20, 10]"
            ]
          },
          "metadata": {},
          "execution_count": 8
        }
      ]
    },
    {
      "cell_type": "markdown",
      "source": [
        "11 Write a code to create a tuple with the elements 100, 200, 300 and print it?"
      ],
      "metadata": {
        "id": "KVgENbaxxK9C"
      }
    },
    {
      "cell_type": "code",
      "source": [
        "a=(100,200,300)\n",
        "print(a)"
      ],
      "metadata": {
        "colab": {
          "base_uri": "https://localhost:8080/"
        },
        "id": "TbmHpx5IxYqB",
        "outputId": "31aa81dc-53d7-4696-d480-30ceb2dbba6c"
      },
      "execution_count": null,
      "outputs": [
        {
          "output_type": "stream",
          "name": "stdout",
          "text": [
            "(100, 200, 300)\n"
          ]
        }
      ]
    },
    {
      "cell_type": "markdown",
      "source": [
        "12 Write a code to access the second-to-last element of the tuple ('red', 'green', 'blue', 'yellow')?"
      ],
      "metadata": {
        "id": "bWWGBS_NxiNZ"
      }
    },
    {
      "cell_type": "code",
      "source": [
        "a=('red','green','blue','yellow')\n",
        "a[-2]"
      ],
      "metadata": {
        "colab": {
          "base_uri": "https://localhost:8080/",
          "height": 35
        },
        "id": "aqxbEI6IxqY0",
        "outputId": "27f7f188-c9ba-4d51-e5be-6524f96be787"
      },
      "execution_count": null,
      "outputs": [
        {
          "output_type": "execute_result",
          "data": {
            "text/plain": [
              "'blue'"
            ],
            "application/vnd.google.colaboratory.intrinsic+json": {
              "type": "string"
            }
          },
          "metadata": {},
          "execution_count": 10
        }
      ]
    },
    {
      "cell_type": "markdown",
      "source": [
        " 13 Write a code to find the minimum number in the tuple (10, 20, 5, 15)?"
      ],
      "metadata": {
        "id": "XurRFPMLx5nr"
      }
    },
    {
      "cell_type": "code",
      "source": [
        "a=(10,20,5,15)\n",
        "b=min(a)\n",
        "print(b)"
      ],
      "metadata": {
        "colab": {
          "base_uri": "https://localhost:8080/"
        },
        "id": "kM0cUrAHyI8r",
        "outputId": "d916e5e8-5f53-4554-a656-f7ccf6ff9581"
      },
      "execution_count": null,
      "outputs": [
        {
          "output_type": "stream",
          "name": "stdout",
          "text": [
            "5\n"
          ]
        }
      ]
    },
    {
      "cell_type": "markdown",
      "source": [
        " 14 Write a code to find the index of the element \"cat\" in the tuple ('dog', 'cat', 'rabbit')?"
      ],
      "metadata": {
        "id": "HxNqytWizQyW"
      }
    },
    {
      "cell_type": "code",
      "source": [
        "a=('dog','cat','rabbit')\n",
        "a.index('cat')"
      ],
      "metadata": {
        "colab": {
          "base_uri": "https://localhost:8080/"
        },
        "id": "oKWcNhMpzagJ",
        "outputId": "b904a4c3-c5c6-47ef-91d3-745850e54f7e"
      },
      "execution_count": null,
      "outputs": [
        {
          "output_type": "execute_result",
          "data": {
            "text/plain": [
              "1"
            ]
          },
          "metadata": {},
          "execution_count": 16
        }
      ]
    },
    {
      "cell_type": "markdown",
      "source": [
        "15 Write a code to create a tuple containing three different fruits and check if \"kiwi\" is in it?"
      ],
      "metadata": {
        "id": "ILq6chY60PZj"
      }
    },
    {
      "cell_type": "code",
      "source": [
        "a=('apple','banana,','kiwi')\n",
        "\"kiwi\" in (a)"
      ],
      "metadata": {
        "id": "VKitabHI0ZUi",
        "colab": {
          "base_uri": "https://localhost:8080/"
        },
        "outputId": "6b27bdff-47d6-496b-b8dd-18b28c26066d"
      },
      "execution_count": null,
      "outputs": [
        {
          "output_type": "execute_result",
          "data": {
            "text/plain": [
              "True"
            ]
          },
          "metadata": {},
          "execution_count": 4
        }
      ]
    },
    {
      "cell_type": "markdown",
      "source": [
        "16 Write a code to create a set with the elements 'a', 'b', 'c' and print it?"
      ],
      "metadata": {
        "id": "_TSbH4croeDu"
      }
    },
    {
      "cell_type": "code",
      "source": [
        "a={'a','b','c'}\n",
        "print(a)"
      ],
      "metadata": {
        "colab": {
          "base_uri": "https://localhost:8080/"
        },
        "id": "rD_upZf5o-9n",
        "outputId": "7c95ca00-2e12-4bb6-9450-0ac3b2cc72e8"
      },
      "execution_count": null,
      "outputs": [
        {
          "output_type": "stream",
          "name": "stdout",
          "text": [
            "{'b', 'a', 'c'}\n"
          ]
        }
      ]
    },
    {
      "cell_type": "markdown",
      "source": [
        "17 Write a code to clear all elements from the set {1, 2, 3, 4, 5}?"
      ],
      "metadata": {
        "id": "Vm8yCkP8pSCn"
      }
    },
    {
      "cell_type": "code",
      "source": [
        "a={1,2,3,4,5}\n",
        "a.clear()\n",
        "print(a)"
      ],
      "metadata": {
        "colab": {
          "base_uri": "https://localhost:8080/"
        },
        "id": "vrWRvOvypm_O",
        "outputId": "77020d5b-fa71-4d1c-89e0-97d2ea7cc9ca"
      },
      "execution_count": null,
      "outputs": [
        {
          "output_type": "stream",
          "name": "stdout",
          "text": [
            "set()\n"
          ]
        }
      ]
    },
    {
      "cell_type": "markdown",
      "source": [
        "18 Write a code to remove the element 4 from the set {1, 2, 3, 4}?"
      ],
      "metadata": {
        "id": "X85VU0KoqADX"
      }
    },
    {
      "cell_type": "code",
      "source": [
        "a={1,2,3,4}\n",
        "a.remove(4)\n",
        "print(a)"
      ],
      "metadata": {
        "colab": {
          "base_uri": "https://localhost:8080/"
        },
        "id": "-46wgQPJqKoE",
        "outputId": "dec4be90-5299-434d-a1fb-86275b593e0e"
      },
      "execution_count": null,
      "outputs": [
        {
          "output_type": "stream",
          "name": "stdout",
          "text": [
            "{1, 2, 3}\n"
          ]
        }
      ]
    },
    {
      "cell_type": "markdown",
      "source": [
        " 19 Write a code to find the union of two sets {1, 2, 3} and {3, 4, 5}?"
      ],
      "metadata": {
        "id": "1Ils3maLqSS_"
      }
    },
    {
      "cell_type": "code",
      "source": [
        "a={1,2,3}\n",
        "b={3,4,5}\n",
        "a.union(b)"
      ],
      "metadata": {
        "colab": {
          "base_uri": "https://localhost:8080/"
        },
        "id": "hEydSxWwqaM_",
        "outputId": "91b78ccd-c5f2-45f3-ee40-cc55f92f69d0"
      },
      "execution_count": null,
      "outputs": [
        {
          "output_type": "execute_result",
          "data": {
            "text/plain": [
              "{1, 2, 3, 4, 5}"
            ]
          },
          "metadata": {},
          "execution_count": 11
        }
      ]
    },
    {
      "cell_type": "markdown",
      "source": [
        "20 Write a code to find the intersection of two sets {1, 2, 3} and {2, 3, 4}?"
      ],
      "metadata": {
        "id": "y_m24-zhqvwK"
      }
    },
    {
      "cell_type": "code",
      "source": [
        "a={1,2,3}\n",
        "b={2,3,4}\n",
        "a.intersection(b)"
      ],
      "metadata": {
        "colab": {
          "base_uri": "https://localhost:8080/"
        },
        "id": "8HEoHB_ArRQW",
        "outputId": "19a6aad8-659f-419b-f837-bab033d5d253"
      },
      "execution_count": null,
      "outputs": [
        {
          "output_type": "execute_result",
          "data": {
            "text/plain": [
              "{2, 3}"
            ]
          },
          "metadata": {},
          "execution_count": 12
        }
      ]
    },
    {
      "cell_type": "markdown",
      "source": [
        " 21 Write a code to create a dictionary with the keys \"name\", \"age\", and \"city\", and print it?"
      ],
      "metadata": {
        "id": "mY8wRFHsraW3"
      }
    },
    {
      "cell_type": "code",
      "source": [
        "a={\"name\":\"Peehul\",\n",
        "  \"age\":21,\n",
        "  \"city\":\"Mumbai\"}\n",
        "print(a)"
      ],
      "metadata": {
        "colab": {
          "base_uri": "https://localhost:8080/"
        },
        "id": "oj0hVokWrlRw",
        "outputId": "894fceb9-8e35-4a5b-fdcb-887acf4b99f7"
      },
      "execution_count": null,
      "outputs": [
        {
          "output_type": "stream",
          "name": "stdout",
          "text": [
            "{'name': 'Peehul', 'age': 21, 'city': 'Mumbai'}\n"
          ]
        }
      ]
    },
    {
      "cell_type": "markdown",
      "source": [
        "22 Write a code to add a new key-value pair \"country\": \"USA\" to the dictionary {'name': 'John', 'age': 25}?"
      ],
      "metadata": {
        "id": "Mwhaoy8gsiWZ"
      }
    },
    {
      "cell_type": "code",
      "source": [
        "a={'name': 'John', 'age': 25}\n",
        "a[\"country\"]=\"USA\"\n",
        "print(a)"
      ],
      "metadata": {
        "colab": {
          "base_uri": "https://localhost:8080/"
        },
        "id": "kAvWObrqsutD",
        "outputId": "6c306f80-5069-4915-ddbf-1fe617d23407"
      },
      "execution_count": null,
      "outputs": [
        {
          "output_type": "stream",
          "name": "stdout",
          "text": [
            "{'name': 'John', 'age': 25, 'country': 'USA'}\n"
          ]
        }
      ]
    },
    {
      "cell_type": "markdown",
      "source": [
        "23 Write a code to access the value associated with the key \"name\" in the dictionary {'name': 'Alice', 'age': 30}?"
      ],
      "metadata": {
        "id": "5kXcZsEutO83"
      }
    },
    {
      "cell_type": "code",
      "source": [
        "a={'name': 'Alice', 'age': 30}\n",
        "a[\"name\"]"
      ],
      "metadata": {
        "colab": {
          "base_uri": "https://localhost:8080/",
          "height": 35
        },
        "id": "SsRyqC9VtcVJ",
        "outputId": "8b209acb-a0a0-4158-b769-c8e4b54940d5"
      },
      "execution_count": null,
      "outputs": [
        {
          "output_type": "execute_result",
          "data": {
            "text/plain": [
              "'Alice'"
            ],
            "application/vnd.google.colaboratory.intrinsic+json": {
              "type": "string"
            }
          },
          "metadata": {},
          "execution_count": 18
        }
      ]
    },
    {
      "cell_type": "markdown",
      "source": [
        "24 Write a code to remove the key \"age\" from the dictionary {'name': 'Bob', 'age': 22, 'city': 'New York'}?"
      ],
      "metadata": {
        "id": "c1_7DbaKthug"
      }
    },
    {
      "cell_type": "code",
      "source": [
        "a={'name': 'Bob', 'age': 22, 'city': 'New York'}\n",
        "a.pop(\"age\")\n",
        "print(a)"
      ],
      "metadata": {
        "colab": {
          "base_uri": "https://localhost:8080/"
        },
        "id": "5cOwuraFtoUT",
        "outputId": "58fb7c51-486c-4166-8be0-00c00045988c"
      },
      "execution_count": null,
      "outputs": [
        {
          "output_type": "stream",
          "name": "stdout",
          "text": [
            "{'name': 'Bob', 'city': 'New York'}\n"
          ]
        }
      ]
    },
    {
      "cell_type": "markdown",
      "source": [
        "25 Write a code to check if the key \"city\" exists in the dictionary {'name': 'Alice', 'city': 'Paris'}?"
      ],
      "metadata": {
        "id": "hVLkmzGetu6g"
      }
    },
    {
      "cell_type": "code",
      "source": [
        "a={'name': 'Alice', 'city': 'Paris'}\n",
        "\"city\" in a"
      ],
      "metadata": {
        "colab": {
          "base_uri": "https://localhost:8080/"
        },
        "id": "s2DlHYCft2ED",
        "outputId": "fdc56d39-eccf-4873-ce35-63a7723a9ce8"
      },
      "execution_count": null,
      "outputs": [
        {
          "output_type": "execute_result",
          "data": {
            "text/plain": [
              "True"
            ]
          },
          "metadata": {},
          "execution_count": 20
        }
      ]
    },
    {
      "cell_type": "markdown",
      "source": [
        " 26 Write a code to create a list, a tuple, and a dictionary, and print them all?"
      ],
      "metadata": {
        "id": "syejJfcquFv2"
      }
    },
    {
      "cell_type": "code",
      "source": [
        "a=[1,2,3]\n",
        "print(a)\n",
        "b=(1,2,3)\n",
        "print(b)\n",
        "c={\"name\":\"Peehul\",\n",
        "  \"age\":21,\n",
        "  \"city\":\"Mumbai\"}\n",
        "print(c)"
      ],
      "metadata": {
        "colab": {
          "base_uri": "https://localhost:8080/"
        },
        "id": "olKL3wFquQJg",
        "outputId": "6b201d06-baf8-4d67-953a-74d9333e6a38"
      },
      "execution_count": null,
      "outputs": [
        {
          "output_type": "stream",
          "name": "stdout",
          "text": [
            "[1, 2, 3]\n",
            "(1, 2, 3)\n",
            "{'name': 'Peehul', 'age': 21, 'city': 'Mumbai'}\n"
          ]
        }
      ]
    },
    {
      "cell_type": "markdown",
      "source": [
        "27 Write a code to create a list of 5 random numbers between 1 and 100, sort it in ascending order, and print the\n",
        "result.(replaced)?"
      ],
      "metadata": {
        "id": "ZZb9pG2ICjrV"
      }
    },
    {
      "cell_type": "code",
      "source": [
        "a=[1,7,5,4,9]\n",
        "a.sort()\n",
        "print(a)"
      ],
      "metadata": {
        "colab": {
          "base_uri": "https://localhost:8080/"
        },
        "id": "m85T4QpcCnNd",
        "outputId": "60b2a956-5c8f-4b41-82ed-61630b3ba8a1"
      },
      "execution_count": null,
      "outputs": [
        {
          "output_type": "stream",
          "name": "stdout",
          "text": [
            "[1, 4, 5, 7, 9]\n"
          ]
        }
      ]
    },
    {
      "cell_type": "markdown",
      "source": [
        "28 Write a code to create a list with strings and print the element at the third index?"
      ],
      "metadata": {
        "id": "E_o5LjpCCzrm"
      }
    },
    {
      "cell_type": "code",
      "source": [
        "a=[\"Peehul\",\"Priyam\",\"Piyush\"]\n",
        "a[2]"
      ],
      "metadata": {
        "colab": {
          "base_uri": "https://localhost:8080/",
          "height": 35
        },
        "id": "rrBCL2e-C9s5",
        "outputId": "63b9e671-d29c-449f-c5be-077033b9a90a"
      },
      "execution_count": null,
      "outputs": [
        {
          "output_type": "execute_result",
          "data": {
            "text/plain": [
              "'Piyush'"
            ],
            "application/vnd.google.colaboratory.intrinsic+json": {
              "type": "string"
            }
          },
          "metadata": {},
          "execution_count": 3
        }
      ]
    },
    {
      "cell_type": "markdown",
      "source": [
        "29 Write a code to combine two dictionaries into one and print the result.?"
      ],
      "metadata": {
        "id": "ch87po3-DJt-"
      }
    },
    {
      "cell_type": "code",
      "source": [
        "a = {'a': 1, 'b': 2}\n",
        "b = {'c': 3, 'd': 4}\n",
        "c = {**a, **b}\n",
        "print(c)\n"
      ],
      "metadata": {
        "colab": {
          "base_uri": "https://localhost:8080/"
        },
        "id": "wBh5M9YHDQaX",
        "outputId": "a8d9b20a-0225-4822-ffa5-1218f1121354"
      },
      "execution_count": null,
      "outputs": [
        {
          "output_type": "stream",
          "name": "stdout",
          "text": [
            "{'a': 1, 'b': 2, 'c': 3, 'd': 4}\n"
          ]
        }
      ]
    },
    {
      "cell_type": "markdown",
      "source": [
        "30 Write a code to convert a list of strings into a set?"
      ],
      "metadata": {
        "id": "OnXki53KD0RY"
      }
    },
    {
      "cell_type": "code",
      "source": [
        "a=[\"Peehul\",\"Piyush\",\"Priyam\",\"Swati\"]\n",
        "b=set(a)\n",
        "print(b)\n",
        "\n"
      ],
      "metadata": {
        "colab": {
          "base_uri": "https://localhost:8080/"
        },
        "id": "6dLZPuyED75A",
        "outputId": "de7a3edf-4b35-43c9-c4ca-de24f79de470"
      },
      "execution_count": null,
      "outputs": [
        {
          "output_type": "stream",
          "name": "stdout",
          "text": [
            "{'Priyam', 'Swati', 'Piyush', 'Peehul'}\n"
          ]
        }
      ]
    }
  ]
}